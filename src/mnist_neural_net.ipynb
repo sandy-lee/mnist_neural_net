{
 "cells": [
  {
   "cell_type": "code",
   "execution_count": 6,
   "metadata": {},
   "outputs": [],
   "source": [
    "import tensorflow as tf\n",
    "from tensorflow import keras"
   ]
  },
  {
   "cell_type": "code",
   "execution_count": 7,
   "metadata": {
    "tags": []
   },
   "outputs": [],
   "source": [
    "fashion_mnist = keras.datasets.fashion_mnist\n",
    "(X_train_full, y_train_full), (X_test, y_test) = fashion_mnist.load_data()"
   ]
  },
  {
   "cell_type": "code",
   "execution_count": 8,
   "metadata": {},
   "outputs": [],
   "source": [
    "X_valid, X_train = X_train_full[:5000] / 255.0, X_train_full[5000:] / 255.0\n",
    "y_valid, y_train = y_train_full[:5000] / 255.0, y_train_full[5000:] / 255.0"
   ]
  },
  {
   "cell_type": "code",
   "execution_count": 9,
   "metadata": {},
   "outputs": [],
   "source": [
    "class_names = [ \"T-shirt/top\" , \"Trouser\" , \"Pullover\" , \"Dress\" , \"Coat\" , \"Sandal\" , \"Shirt\" , \"Sneaker\" , \"Bag\" , \"Ankle boot\" ]"
   ]
  },
  {
   "cell_type": "code",
   "execution_count": 10,
   "metadata": {},
   "outputs": [],
   "source": [
    "model = keras.models.Sequential([keras.layers.Flatten(input_shape = [ 28 , 28 ]), \n",
    "                                 keras.layers.Dense(300, activation = \"relu\" ), \n",
    "                                 keras.layers.Dense(100, activation = \"relu\" ), \n",
    "                                 keras.layers.Dense(10, activation = \"softmax\" )]) "
   ]
  },
  {
   "cell_type": "code",
   "execution_count": 11,
   "metadata": {
    "tags": []
   },
   "outputs": [
    {
     "output_type": "stream",
     "name": "stdout",
     "text": "Model: \"sequential\"\n_________________________________________________________________\nLayer (type)                 Output Shape              Param #   \n=================================================================\nflatten (Flatten)            (None, 784)               0         \n_________________________________________________________________\ndense (Dense)                (None, 300)               235500    \n_________________________________________________________________\ndense_1 (Dense)              (None, 100)               30100     \n_________________________________________________________________\ndense_2 (Dense)              (None, 10)                1010      \n=================================================================\nTotal params: 266,610\nTrainable params: 266,610\nNon-trainable params: 0\n_________________________________________________________________\n"
    }
   ],
   "source": [
    "model.summary()"
   ]
  },
  {
   "cell_type": "code",
   "execution_count": 12,
   "metadata": {},
   "outputs": [],
   "source": [
    "model.compile(loss = \"sparse_categorical_crossentropy\", \n",
    "              optimizer = \"sgd\",\n",
    "              metrics = [\"accuracy\"]) "
   ]
  },
  {
   "cell_type": "code",
   "execution_count": 13,
   "metadata": {
    "tags": []
   },
   "outputs": [
    {
     "output_type": "stream",
     "name": "stdout",
     "text": "Epoch 1/30\n1719/1719 [==============================] - 9s 5ms/step - loss: 0.0166 - accuracy: 0.1007 - val_loss: 0.0011 - val_accuracy: 0.0914\nEpoch 2/30\n1719/1719 [==============================] - 8s 4ms/step - loss: 7.6325e-04 - accuracy: 0.1008 - val_loss: 5.1347e-04 - val_accuracy: 0.0914\nEpoch 3/30\n1719/1719 [==============================] - 9s 5ms/step - loss: 4.1541e-04 - accuracy: 0.1008 - val_loss: 3.3185e-04 - val_accuracy: 0.0914\nEpoch 4/30\n1719/1719 [==============================] - 8s 5ms/step - loss: 2.8272e-04 - accuracy: 0.1008 - val_loss: 2.4409e-04 - val_accuracy: 0.0914\nEpoch 5/30\n1719/1719 [==============================] - 8s 4ms/step - loss: 2.1311e-04 - accuracy: 0.1008 - val_loss: 1.9270e-04 - val_accuracy: 0.0914\nEpoch 6/30\n1719/1719 [==============================] - 7s 4ms/step - loss: 1.7044e-04 - accuracy: 0.1008 - val_loss: 1.5890e-04 - val_accuracy: 0.0914\nEpoch 7/30\n1719/1719 [==============================] - 8s 5ms/step - loss: 1.4163e-04 - accuracy: 0.1008 - val_loss: 1.3505e-04 - val_accuracy: 0.0914\nEpoch 8/30\n1719/1719 [==============================] - 8s 5ms/step - loss: 1.2095e-04 - accuracy: 0.1008 - val_loss: 1.1734e-04 - val_accuracy: 0.0914\nEpoch 9/30\n1719/1719 [==============================] - 9s 5ms/step - loss: 1.0538e-04 - accuracy: 0.1008 - val_loss: 1.0366e-04 - val_accuracy: 0.0914\nEpoch 10/30\n1719/1719 [==============================] - 8s 5ms/step - loss: 9.3271e-05 - accuracy: 0.1008 - val_loss: 9.2796e-05 - val_accuracy: 0.0914\nEpoch 11/30\n1719/1719 [==============================] - 7s 4ms/step - loss: 8.3584e-05 - accuracy: 0.1008 - val_loss: 8.3946e-05 - val_accuracy: 0.0914\nEpoch 12/30\n1719/1719 [==============================] - 9s 5ms/step - loss: 7.5669e-05 - accuracy: 0.1008 - val_loss: 7.6612e-05 - val_accuracy: 0.0914\nEpoch 13/30\n1719/1719 [==============================] - 7s 4ms/step - loss: 6.9081e-05 - accuracy: 0.1008 - val_loss: 7.0432e-05 - val_accuracy: 0.0914\nEpoch 14/30\n1719/1719 [==============================] - 8s 5ms/step - loss: 6.3516e-05 - accuracy: 0.1008 - val_loss: 6.5159e-05 - val_accuracy: 0.0914\nEpoch 15/30\n1719/1719 [==============================] - 9s 5ms/step - loss: 5.8757e-05 - accuracy: 0.1008 - val_loss: 6.0606e-05 - val_accuracy: 0.0914\nEpoch 16/30\n1719/1719 [==============================] - 8s 5ms/step - loss: 5.4641e-05 - accuracy: 0.1008 - val_loss: 5.6639e-05 - val_accuracy: 0.0914\nEpoch 17/30\n1719/1719 [==============================] - 7s 4ms/step - loss: 5.1051e-05 - accuracy: 0.1008 - val_loss: 5.3149e-05 - val_accuracy: 0.0914\nEpoch 18/30\n1719/1719 [==============================] - 8s 5ms/step - loss: 4.7889e-05 - accuracy: 0.1008 - val_loss: 5.0057e-05 - val_accuracy: 0.0914\nEpoch 19/30\n1719/1719 [==============================] - 7s 4ms/step - loss: 4.5085e-05 - accuracy: 0.1008 - val_loss: 4.7301e-05 - val_accuracy: 0.0914\nEpoch 20/30\n1719/1719 [==============================] - 8s 5ms/step - loss: 4.2584e-05 - accuracy: 0.1008 - val_loss: 4.4825e-05 - val_accuracy: 0.0914\nEpoch 21/30\n1719/1719 [==============================] - 7s 4ms/step - loss: 4.0339e-05 - accuracy: 0.1008 - val_loss: 4.2591e-05 - val_accuracy: 0.0914\nEpoch 22/30\n1719/1719 [==============================] - 7s 4ms/step - loss: 3.8312e-05 - accuracy: 0.1008 - val_loss: 4.0566e-05 - val_accuracy: 0.0914\nEpoch 23/30\n1719/1719 [==============================] - 8s 5ms/step - loss: 3.6475e-05 - accuracy: 0.1008 - val_loss: 3.8720e-05 - val_accuracy: 0.0914\nEpoch 24/30\n1719/1719 [==============================] - 7s 4ms/step - loss: 3.4799e-05 - accuracy: 0.1008 - val_loss: 3.7032e-05 - val_accuracy: 0.0914\nEpoch 25/30\n1719/1719 [==============================] - 8s 5ms/step - loss: 3.3267e-05 - accuracy: 0.1008 - val_loss: 3.5481e-05 - val_accuracy: 0.0914\nEpoch 26/30\n1719/1719 [==============================] - 7s 4ms/step - loss: 3.1860e-05 - accuracy: 0.1008 - val_loss: 3.4052e-05 - val_accuracy: 0.0914\nEpoch 27/30\n1719/1719 [==============================] - 7s 4ms/step - loss: 3.0563e-05 - accuracy: 0.1008 - val_loss: 3.2732e-05 - val_accuracy: 0.0914\nEpoch 28/30\n1719/1719 [==============================] - 7s 4ms/step - loss: 2.9366e-05 - accuracy: 0.1008 - val_loss: 3.1509e-05 - val_accuracy: 0.0914\nEpoch 29/30\n1719/1719 [==============================] - 8s 4ms/step - loss: 2.8257e-05 - accuracy: 0.1008 - val_loss: 3.0372e-05 - val_accuracy: 0.0914\nEpoch 30/30\n1719/1719 [==============================] - 8s 4ms/step - loss: 2.7226e-05 - accuracy: 0.1008 - val_loss: 2.9313e-05 - val_accuracy: 0.0914\n"
    }
   ],
   "source": [
    "history = model.fit(X_train, \n",
    "                    y_train, \n",
    "                    epochs = 30, \n",
    "                    validation_data = (X_valid, y_valid))"
   ]
  },
  {
   "cell_type": "code",
   "execution_count": null,
   "metadata": {},
   "outputs": [],
   "source": []
  }
 ],
 "metadata": {
  "language_info": {
   "codemirror_mode": {
    "name": "ipython",
    "version": 3
   },
   "file_extension": ".py",
   "mimetype": "text/x-python",
   "name": "python",
   "nbconvert_exporter": "python",
   "pygments_lexer": "ipython3",
   "version": "3.8.2-final"
  },
  "orig_nbformat": 2,
  "kernelspec": {
   "name": "python38264bitmnistneuralnetpipenv3a2e98feff484f13ac9d3017817de6e2",
   "display_name": "Python 3.8.2 64-bit ('mnist_neural_net': pipenv)"
  }
 },
 "nbformat": 4,
 "nbformat_minor": 2
}